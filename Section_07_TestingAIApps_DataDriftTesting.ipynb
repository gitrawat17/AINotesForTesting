{
  "nbformat": 4,
  "nbformat_minor": 0,
  "metadata": {
    "colab": {
      "provenance": []
    },
    "kernelspec": {
      "name": "python3",
      "display_name": "Python 3"
    },
    "language_info": {
      "name": "python"
    }
  },
  "cells": [
    {
      "cell_type": "markdown",
      "source": [
        "### Categorical Data Drift in AI Models Using Population Stability Index (PSI)\n",
        "\n",
        "**Introduction**  \n",
        "Categorical data drift occurs when the distribution of categorical variables changes over time between different datasets, such as the training and production datasets. Monitoring this drift is crucial in AI and machine learning models to ensure that the model's predictions remain accurate and relevant as data evolves.\n",
        "\n",
        "**Population Stability Index (PSI)**  \n",
        "The Population Stability Index (PSI) is a statistical measure used to identify and quantify data drift. PSI is particularly useful for categorical variables where the occurrence of certain categories (or modalities) might shift over time. PSI can help identify these shifts by comparing the distribution of a categorical variable in the training data with the distribution in the test or production data.\n",
        "\n",
        "A high PSI value indicates that the variable has drifted significantly, which can lead to model performance degradation. The PSI calculation involves comparing the frequency distribution of each category between the training and test datasets and computing a score to assess the level of drift.\n",
        "\n",
        "**How PSI Works**  \n",
        "PSI is computed by comparing the proportion of each category in the training dataset against the test dataset. The formula for calculating PSI is:\n",
        "\n",
        "![image.png](data:image/png;base64,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)\n",
        "\n",
        "Where:\n",
        "- **Train Proportion** is the proportion of observations in each category in the training dataset.\n",
        "- **Test Proportion** is the proportion of observations in each category in the test dataset.\n",
        "\n",
        "**PSI Thresholds:**\n",
        "- **PSI < 0.1**: Little or no change.\n",
        "- **0.1 ≤ PSI < 0.25**: Moderate change.\n",
        "- **PSI ≥ 0.25**: Major shift, indicating significant drift.\n",
        "\n",
        "**Example Application:**\n",
        "Imagine you have an AI model built on customer transaction data where one of the categorical variables is \"Transaction Type\" (e.g., \"Online\", \"In-store\", \"Mobile\"). Over time, as more people adopt mobile transactions, the distribution of this variable might shift. By calculating the PSI, we can detect when the model might need to be retrained due to this shift in behavior.\n",
        "\n",
        "### Practical Implementation of PSI for Categorical Data Drift\n",
        "\n",
        "To monitor and test data drift in categorical variables using PSI, the following steps can be implemented in Python:\n",
        "\n",
        "1. **Load the Data**: Import the training and test datasets, focusing on the categorical variable you wish to monitor.\n",
        "2. **Calculate PSI**: Use a predefined function to calculate the PSI between the two datasets.\n",
        "3. **Interpret Results**: Based on the PSI value, decide if the variable has drifted and whether any action is needed.\n",
        "\n",
        "Here’s a general-purpose Python function for calculating PSI for categorical variables:\n",
        "\n",
        "```python\n",
        "from collections import Counter\n",
        "import pandas as pd\n",
        "import numpy as np\n",
        "\n",
        "def drift_psi(var_train: pd.Series, var_test: pd.Series, max_num_categories: int = 10):\n",
        "    min_distribution_probability = 0.0001\n",
        "    all_modalities = list(set(var_train).union(set(var_test)))\n",
        "    \n",
        "    # Handling categories\n",
        "    if len(all_modalities) > max_num_categories:\n",
        "        var_count_train = dict(Counter(var_train).most_common(max_num_categories))\n",
        "        var_count_train['Other'] = len(var_train) - sum(var_count_train.values())\n",
        "        var_count_test = dict(Counter(var_test))\n",
        "    else:\n",
        "        var_count_train = Counter(var_train)\n",
        "        var_count_test = Counter(var_test)\n",
        "    \n",
        "    # Calculate proportions\n",
        "    train_distribution = np.array([var_count_train.get(i, 0) for i in all_modalities]) / len(var_train)\n",
        "    test_distribution = np.array([var_count_test.get(i, 0) for i in all_modalities]) / len(var_test)\n",
        "    \n",
        "    # Compute PSI\n",
        "    psi = 0\n",
        "    for i in range(len(all_modalities)):\n",
        "        train_dist_bounded = max(train_distribution[i], min_distribution_probability)\n",
        "        test_dist_bounded = max(test_distribution[i], min_distribution_probability)\n",
        "        psi += (train_dist_bounded - test_dist_bounded) * np.log(train_dist_bounded / test_dist_bounded)\n",
        "    \n",
        "    return psi\n",
        "\n",
        "# Example usage\n",
        "train_data = pd.Series(['A', 'B', 'A', 'B', 'C', 'A', 'A', 'B', 'C', 'A'])\n",
        "test_data = pd.Series(['A', 'B', 'A', 'C', 'A', 'D', 'A', 'B', 'D', 'A'])\n",
        "\n",
        "psi_value = drift_psi(train_data, test_data)\n",
        "print(f\"PSI Value: {psi_value}\")\n",
        "```\n",
        "\n",
        "**Interpreting PSI Results:**\n",
        "The `drift_psi` function will output a PSI score:\n",
        "- If the score is below 0.1, the drift is minimal.\n",
        "- If the score is between 0.1 and 0.25, moderate drift has occurred, which may indicate a need to monitor further.\n",
        "- If the score is above 0.25, major drift has been detected, and the model may require retraining.\n",
        "\n",
        "\n",
        "\n",
        "Categorical data drift can negatively impact the performance of AI models, leading to inaccurate predictions. Using the PSI as a monitoring tool can help identify when a model might need to be retrained or recalibrated. This ensures the model continues to perform well in a dynamic environment where data distributions may change over time."
      ],
      "metadata": {
        "id": "qn405AmcxTI-"
      }
    },
    {
      "cell_type": "code",
      "execution_count": null,
      "metadata": {
        "colab": {
          "base_uri": "https://localhost:8080/"
        },
        "id": "Ao4xyjxuxRCp",
        "outputId": "bcb06352-df23-4c7f-db2d-4927f64590ac"
      },
      "outputs": [
        {
          "output_type": "stream",
          "name": "stdout",
          "text": [
            "PSI Value: 1.6292816305292734\n"
          ]
        }
      ],
      "source": [
        "from collections import Counter\n",
        "import pandas as pd\n",
        "import numpy as np\n",
        "\n",
        "def drift_psi(var_train: pd.Series, var_test: pd.Series, max_num_categories: int = 10):\n",
        "    min_distribution_probability = 0.0001\n",
        "    all_modalities = list(set(var_train).union(set(var_test)))\n",
        "\n",
        "    # Handling categories\n",
        "    if len(all_modalities) > max_num_categories:\n",
        "        var_count_train = dict(Counter(var_train).most_common(max_num_categories))\n",
        "        var_count_train['Other'] = len(var_train) - sum(var_count_train.values())\n",
        "        var_count_test = dict(Counter(var_test))\n",
        "    else:\n",
        "        var_count_train = Counter(var_train)\n",
        "        var_count_test = Counter(var_test)\n",
        "\n",
        "    # Calculate proportions\n",
        "    train_distribution = np.array([var_count_train.get(i, 0) for i in all_modalities]) / len(var_train)\n",
        "    test_distribution = np.array([var_count_test.get(i, 0) for i in all_modalities]) / len(var_test)\n",
        "\n",
        "    # Compute PSI\n",
        "    psi = 0\n",
        "    for i in range(len(all_modalities)):\n",
        "        train_dist_bounded = max(train_distribution[i], min_distribution_probability)\n",
        "        test_dist_bounded = max(test_distribution[i], min_distribution_probability)\n",
        "        psi += (train_dist_bounded - test_dist_bounded) * np.log(train_dist_bounded / test_dist_bounded)\n",
        "\n",
        "    return psi\n",
        "\n",
        "# Example usage\n",
        "train_data = pd.Series(['A', 'B', 'A', 'B', 'C', 'A', 'A', 'B', 'C', 'A'])\n",
        "test_data = pd.Series(['A', 'B', 'A', 'C', 'A', 'D', 'A', 'B', 'D', 'A'])\n",
        "\n",
        "psi_value = drift_psi(train_data, test_data)\n",
        "print(f\"PSI Value: {psi_value}\")\n"
      ]
    },
    {
      "cell_type": "markdown",
      "source": [
        "Since the PSI value is 1.629, it is well above 0.2, meaning that there is a significant change in the distribution between the training and test datasets.\n",
        "\n",
        "Actions to Consider:\n",
        "Investigate the Drift: Identify which categories are contributing the most to this drift.\n",
        "Update the Model: Consider updating or retraining your model with the new data, as the significant drift could degrade the model's performance.\n",
        "Feature Engineering: Adjust features if needed, based on how the distribution of data has shifted."
      ],
      "metadata": {
        "id": "k6i_6lZrzOKD"
      }
    },
    {
      "cell_type": "markdown",
      "source": [
        "\n",
        "\n",
        "---\n",
        "\n",
        "\n",
        "\n",
        "---\n",
        "\n"
      ],
      "metadata": {
        "id": "Fcop9gY9zUwX"
      }
    },
    {
      "cell_type": "markdown",
      "source": [
        "### Categorical Data Drift Detection Using Chi-Square Test\n",
        "\n",
        "#### **Introduction**\n",
        "The chi-square test is a statistical method used to determine whether there is a significant difference between the expected frequencies and the observed frequencies in one or more categories. It is commonly used in machine learning to detect data drift, especially in categorical variables. In the context of AI and machine learning models, categorical data drift occurs when the distribution of categorical variables changes over time between training and test datasets, potentially leading to performance degradation of the model.\n",
        "\n",
        "The chi-square test checks whether the categorical distribution in the test data matches the distribution in the training data. The null hypothesis of the chi-square test assumes that there is no significant difference between the distributions, meaning no data drift. If the null hypothesis is rejected, this suggests that the data has drifted.\n",
        "\n",
        "#### **Chi-Square Test Explanation**\n",
        "The chi-square statistic is calculated as:\n",
        "\n",
        "![image.png](data:image/png;base64,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)\n",
        "\n",
        "Where:\n",
        "- Oi = observed frequency in the test dataset.\n",
        "- Ei = expected frequency in the training dataset.\n",
        "\n",
        "The chi-square test then returns a p-value, which indicates the likelihood that the observed frequencies differ from the expected frequencies by chance alone. If the p-value is below a specified threshold (e.g., 0.05), the data is considered to have drifted.\n",
        "\n",
        "#### **How to Use Chi-Square Test for Data Drift Detection:**\n",
        "1. **Load the Data**: Load the categorical data from both the training and test datasets.\n",
        "2. **Compute Frequencies**: Calculate the frequency of each category in both datasets.\n",
        "3. **Run Chi-Square Test**: Compare the frequencies using the chi-square formula.\n",
        "4. **Interpret Results**: If the chi-square test statistic is significant (p-value < threshold), the data has drifted.\n",
        "\n",
        "\n",
        "#### **Explanation:**\n",
        "1. **drift_chisquare function**: Calculates the chi-square statistic by comparing the frequency distributions of categories between the train and test datasets.\n",
        "2. **test_drift_chisquare function**: Tests if data drift exists by comparing the p-value against a significance level (e.g., 0.05). If the p-value is lower, it indicates significant drift, and the function raises an error.\n",
        "\n",
        "#### **Interpretation:**\n",
        "- If the p-value is **greater than** the threshold (e.g., 0.05), the null hypothesis cannot be rejected, implying no significant drift.\n",
        "- If the p-value is **less than** the threshold, the null hypothesis is rejected, meaning the data has drifted, and the model may require retraining.\n",
        "\n",
        "\n",
        "\n",
        "The chi-square test is a powerful tool for identifying and quantifying data drift in categorical variables. It helps monitor the distributional changes that can occur between training and production datasets, ensuring the model's reliability over time. Regular drift monitoring is crucial in AI and machine learning to maintain model accuracy and performance."
      ],
      "metadata": {
        "id": "L_dj94N4zWEi"
      }
    },
    {
      "cell_type": "code",
      "source": [
        "from collections import Counter\n",
        "import pandas as pd\n",
        "import numpy as np\n",
        "from scipy.stats import chi2\n",
        "\n",
        "def drift_chisquare(var_train: pd.Series, var_test: pd.Series, max_num_categories: int = 10, epsilon=1e-6):\n",
        "    \"\"\"\n",
        "    Compute one-way chi-square test (Goodness of fit test) for a categorical variable between a train and test datasets.\n",
        "    The Null hypothesis is that the categorical variable in the test dataset has the same distribution as in train dataset.\n",
        "\n",
        "    Parameters\n",
        "    ----------\n",
        "    var_train: pd.Series\n",
        "        A categorical column in the train dataset.\n",
        "    var_test: pd.Series\n",
        "        A categorical column in the test dataset that is compared to var_train.\n",
        "    max_num_categories: int = 10\n",
        "        Maximum number of categories/modalities.\n",
        "    epsilon: float\n",
        "        Small constant added to avoid division by zero.\n",
        "\n",
        "    Returns\n",
        "    -------\n",
        "    chi_square: float\n",
        "        The chi-squared test statistic.\n",
        "    pvalue: float\n",
        "        The p-value of the test.\n",
        "    output_data: pd.DataFrame\n",
        "        DataFrame with frequencies and chi-square contributions for each modality.\n",
        "    \"\"\"\n",
        "    all_modalities = list(set(var_train).union(set(var_test)))\n",
        "\n",
        "    if max_num_categories is not None and len(all_modalities) > max_num_categories:\n",
        "        var_count_train = dict(Counter(var_train).most_common(max_num_categories))\n",
        "        var_count_train['Other modalities'] = len(var_train) - sum(var_count_train.values())\n",
        "        categories_list = list(var_count_train.keys())\n",
        "\n",
        "        var_count_test = Counter(var_test)\n",
        "        var_count_test = {i: var_count_test[i] for i in categories_list}  # For test data, take same category names as train_data\n",
        "        var_count_test['Other modalities'] = len(var_test) - sum(var_count_test.values())\n",
        "\n",
        "    else:\n",
        "        var_count_train = Counter(var_train)\n",
        "        var_count_test = Counter(var_test)\n",
        "\n",
        "    train_frequencies = np.array([var_count_train.get(i, 0) for i in all_modalities])\n",
        "    test_frequencies = np.array([var_count_test.get(i, 0) for i in all_modalities])\n",
        "\n",
        "    chi_square = 0\n",
        "    output_data = pd.DataFrame(columns=[\"Modality\", \"Train_frequencies\", \"Test_frequencies\", \"Chi_square\"])\n",
        "    k_norm = var_test.shape[0] / var_train.shape[0]  # Normalize train_frequencies so that train and test are the same size.\n",
        "\n",
        "    for i in range(len(all_modalities)):\n",
        "        # Add epsilon to avoid division by zero errors\n",
        "        train_f = train_frequencies[i] * k_norm\n",
        "        test_f = test_frequencies[i]\n",
        "        if train_f > 0:  # Ensure we only calculate chi-square for non-zero train frequencies\n",
        "            chi_square_value = (test_f - train_f) ** 2 / (train_f + epsilon)\n",
        "        else:\n",
        "            chi_square_value = test_f ** 2 / epsilon  # If train_f is 0, account for missing category\n",
        "\n",
        "        chi_square += chi_square_value\n",
        "\n",
        "        row = {\n",
        "            \"Modality\": all_modalities[i],\n",
        "            \"Train_frequencies\": train_frequencies[i],\n",
        "            \"Test_frequencies\": test_frequencies[i],\n",
        "            \"Chi_square\": chi_square_value\n",
        "        }\n",
        "\n",
        "        output_data = pd.concat([output_data, pd.DataFrame([row])], ignore_index=True)  # Using pd.concat instead of append\n",
        "\n",
        "    pvalue = 1 - chi2.cdf(chi_square, len(all_modalities) - 1)  # Chi-square test p-value.\n",
        "\n",
        "    return chi_square, pvalue, output_data.sort_values(\"Chi_square\", ascending=False)\n",
        "\n",
        "# Test that a variable is not drifting\n",
        "def test_drift_chisquare(var_train: pd.Series, var_test: pd.Series, max_num_categories: int = 10, chisquare_risk_level: float = 0.05, modality_chisquare_contribution: float = 0.2):\n",
        "    chi_square, pvalue, chisquare_dataset = drift_chisquare(var_train=var_train, var_test=var_test, max_num_categories=max_num_categories)\n",
        "    main_drifting_modalities_bool = chisquare_dataset[\"Chi_square\"] > modality_chisquare_contribution * chi_square\n",
        "    modalities_list = chisquare_dataset[main_drifting_modalities_bool][\"Modality\"].tolist()\n",
        "    assert pvalue > chisquare_risk_level, f\"The variable {var_train.name} is drifting for the following modalities {*modalities_list,}\"\n",
        "\n",
        "# Example Usage:\n",
        "train_data = pd.Series(['A', 'A', 'B', 'B', 'C', 'A', 'B', 'C', 'A', 'A'])\n",
        "test_data = pd.Series(['A', 'B', 'A', 'C', 'A', 'D', 'A', 'B', 'D', 'A'])\n",
        "\n",
        "# Run the chi-square test\n",
        "chi_square, pvalue, result = drift_chisquare(train_data, test_data)\n",
        "print(f\"Chi-Square Value: {chi_square}, P-Value: {pvalue}\")\n",
        "print(result)\n"
      ],
      "metadata": {
        "colab": {
          "base_uri": "https://localhost:8080/"
        },
        "id": "22G4CO_1xxKi",
        "outputId": "95d8a222-efb9-4acf-c0c5-8c67b976893d"
      },
      "execution_count": null,
      "outputs": [
        {
          "output_type": "stream",
          "name": "stdout",
          "text": [
            "Chi-Square Value: 4000000.833332972, P-Value: 0.0\n",
            "  Modality Train_frequencies Test_frequencies    Chi_square\n",
            "2        D                 0                2  4.000000e+06\n",
            "1        C                 2                1  4.999998e-01\n",
            "3        B                 3                2  3.333332e-01\n",
            "0        A                 5                5  0.000000e+00\n"
          ]
        },
        {
          "output_type": "stream",
          "name": "stderr",
          "text": [
            "<ipython-input-5-631fda950092>:71: FutureWarning: The behavior of DataFrame concatenation with empty or all-NA entries is deprecated. In a future version, this will no longer exclude empty or all-NA columns when determining the result dtypes. To retain the old behavior, exclude the relevant entries before the concat operation.\n",
            "  output_data = pd.concat([output_data, pd.DataFrame([row])], ignore_index=True)  # Using pd.concat instead of append\n"
          ]
        }
      ]
    },
    {
      "cell_type": "markdown",
      "source": [
        "This extremely high chi-square value arises from the fact that there is a significant difference between the frequencies in the training and test datasets for some categories.\n",
        "\n",
        "The large chi-square value and p-value of 0.0 indicate that there is a significant drift in the distribution of categories between the training and test datasets."
      ],
      "metadata": {
        "id": "S6h3NMHO19qa"
      }
    },
    {
      "cell_type": "code",
      "source": [],
      "metadata": {
        "id": "_tYivKkYzzLo"
      },
      "execution_count": null,
      "outputs": []
    },
    {
      "cell_type": "markdown",
      "source": [
        "\n",
        "\n",
        "---\n",
        "\n"
      ],
      "metadata": {
        "id": "ciHowymB_2U1"
      }
    },
    {
      "cell_type": "markdown",
      "source": [
        "### Earth Mover’s Distance (EMD) for Categorical Data Drift Detection\n",
        "EMD is another useful method for identifying distributional changes between two categorical datasets. While PSI is commonly used for categorical drift detection, EMD can offer more detailed insight by measuring the \"minimum cost\" required to transform one distribution into another.\n",
        "\n",
        "#### Definition of Earth Mover's Distance (EMD)\n",
        "The Earth Mover's Distance (EMD) measures the distance between two probability distributions. In this context, it tells you how much the test distribution has drifted away from the training distribution by calculating the cost to \"move\" one distribution to match the other.\n",
        "\n",
        "#### Real-World Application of EMD\n",
        "Consider two categorical variables in a dataset. These variables may represent product sales categories in a retail dataset. We want to compare their distributions between two time periods—say, Q1 and Q2. By using EMD, we can quantify how much the distribution of product sales has changed, providing insights into trends and drift in customer behavior.\n",
        "\n",
        "In an AI system, this type of data drift could impact a recommendation engine’s performance, leading to less accurate predictions.\n",
        "\n",
        "Here’s how you might implement EMD using `pyemd`:\n",
        "\n",
        "### Code Example for EMD:\n",
        "\n",
        "```python\n",
        "import numpy as np\n",
        "from pyemd import emd\n",
        "\n",
        "# Train and test distributions for a categorical variable\n",
        "train_distribution = np.array([0.5, 0.3, 0.1, 0.1])  # e.g., category proportions in training\n",
        "test_distribution = np.array([0.4, 0.2, 0.3, 0.1])   # e.g., category proportions in test\n",
        "\n",
        "# Distance matrix (Manhattan distance between category indices)\n",
        "distance_matrix = np.array([[0, 1, 2, 3], [1, 0, 1, 2], [2, 1, 0, 1], [3, 2, 1, 0]])\n",
        "\n",
        "# Compute Earth Mover's Distance\n",
        "emd_value = emd(train_distribution, test_distribution, distance_matrix)\n",
        "print(f\"Earth Mover's Distance: {emd_value}\")\n",
        "```\n",
        "\n",
        "### Interpretation:\n",
        "- **EMD Value:** The Earth Mover's Distance measures how much one distribution (test) differs from another (train). A high EMD value indicates more drift, while a lower value indicates that the two distributions are more similar.\n",
        "- **Distance Matrix:** It defines the \"cost\" of moving probability mass between different categories.\n",
        "\n"
      ],
      "metadata": {
        "id": "dN3Pb7XX_3Ed"
      }
    },
    {
      "cell_type": "code",
      "source": [
        "!pip install pyemd"
      ],
      "metadata": {
        "colab": {
          "base_uri": "https://localhost:8080/"
        },
        "id": "lyK4IcLzAE_U",
        "outputId": "dac36f9c-17df-4686-c9a9-ed9e73109286"
      },
      "execution_count": null,
      "outputs": [
        {
          "output_type": "stream",
          "name": "stdout",
          "text": [
            "Collecting pyemd\n",
            "  Downloading pyemd-1.0.0-cp310-cp310-manylinux_2_17_x86_64.manylinux2014_x86_64.whl.metadata (9.6 kB)\n",
            "Requirement already satisfied: numpy>=1.9.0 in /usr/local/lib/python3.10/dist-packages (from pyemd) (1.26.4)\n",
            "Downloading pyemd-1.0.0-cp310-cp310-manylinux_2_17_x86_64.manylinux2014_x86_64.whl (662 kB)\n",
            "\u001b[?25l   \u001b[90m━━━━━━━━━━━━━━━━━━━━━━━━━━━━━━━━━━━━━━━━\u001b[0m \u001b[32m0.0/662.6 kB\u001b[0m \u001b[31m?\u001b[0m eta \u001b[36m-:--:--\u001b[0m\r\u001b[2K   \u001b[91m━━━━━━━━━━━━━━━━━━━━━━━━━━━━━━━━━━━━━━━\u001b[0m\u001b[91m╸\u001b[0m \u001b[32m655.4/662.6 kB\u001b[0m \u001b[31m19.0 MB/s\u001b[0m eta \u001b[36m0:00:01\u001b[0m\r\u001b[2K   \u001b[90m━━━━━━━━━━━━━━━━━━━━━━━━━━━━━━━━━━━━━━━━\u001b[0m \u001b[32m662.6/662.6 kB\u001b[0m \u001b[31m10.7 MB/s\u001b[0m eta \u001b[36m0:00:00\u001b[0m\n",
            "\u001b[?25hInstalling collected packages: pyemd\n",
            "Successfully installed pyemd-1.0.0\n"
          ]
        }
      ]
    },
    {
      "cell_type": "code",
      "source": [
        "import numpy as np\n",
        "from pyemd import emd\n",
        "\n",
        "# Example distributions (train and test)\n",
        "train_distribution = np.array([0.2, 0.3, 0.5])  # Example: train frequencies as percentages\n",
        "test_distribution = np.array([0.1, 0.6, 0.3])   # Example: test frequencies as percentages\n",
        "\n",
        "# Distance matrix showing the cost between moving from one \"bin\" to another\n",
        "distance_matrix = np.array([\n",
        "    [0.0, 1.0, 2.0],\n",
        "    [1.0, 0.0, 1.0],\n",
        "    [2.0, 1.0, 0.0]\n",
        "])\n",
        "\n",
        "# Convert all to float64 to avoid buffer dtype mismatch\n",
        "train_distribution = train_distribution.astype(np.float64)\n",
        "test_distribution = test_distribution.astype(np.float64)\n",
        "distance_matrix = distance_matrix.astype(np.float64)\n",
        "\n",
        "# Compute Earth Mover's Distance\n",
        "emd_value = emd(train_distribution, test_distribution, distance_matrix)\n",
        "print(f\"Earth Mover's Distance: {emd_value}\")\n"
      ],
      "metadata": {
        "colab": {
          "base_uri": "https://localhost:8080/"
        },
        "id": "U7cWEj0o_6xl",
        "outputId": "ad375194-0aed-4e0c-9d5c-fb0a28a5a91f"
      },
      "execution_count": null,
      "outputs": [
        {
          "output_type": "stream",
          "name": "stdout",
          "text": [
            "Earth Mover's Distance: 0.3\n"
          ]
        }
      ]
    },
    {
      "cell_type": "markdown",
      "source": [
        "Interpreting 0.3: A value of 0.3 could be interpreted as a small but noticeable shift in the data, meaning there may be a drift or change, but it is not significant enough to indicate a major difference between the two datasets (e.g., training and test data in an AI model)."
      ],
      "metadata": {
        "id": "fmZF6XqhBlbS"
      }
    },
    {
      "cell_type": "code",
      "source": [
        "from scipy.stats import ks_2samp\n",
        "import pandas as pd\n",
        "\n",
        "def drift_ks_stat_test(var_train: pd.Series, var_test: pd.Series):\n",
        "    \"\"\"\n",
        "    Compute the two-sample Kolmogorov-Smirnov test (goodness of fit) for a numerical variable between train and test datasets\n",
        "    Parameters\n",
        "    ----------\n",
        "    var_train : pd.Series\n",
        "        A numerical column in the train dataset\n",
        "    var_test : pd.Series\n",
        "        A numerical column in the test dataset that is compared to var_train\n",
        "    Returns\n",
        "    -------\n",
        "    statistic : float\n",
        "        KS statistic.\n",
        "    pvalue : float\n",
        "        One-tailed or two-tailed p-value.\n",
        "    \"\"\"\n",
        "    return ks_2samp(var_train, var_test)\n",
        "\n",
        "# Example usage:\n",
        "train_data = pd.Series([0.5, 1.2, 1.5, 2.0, 2.2, 3.0])\n",
        "test_data = pd.Series([0.4, 1.0, 1.3, 2.1, 2.5, 2.9])\n",
        "\n",
        "ks_statistic, p_value = drift_ks_stat_test(train_data, test_data)\n",
        "print(f\"KS Statistic: {ks_statistic}, P-Value: {p_value}\")\n"
      ],
      "metadata": {
        "colab": {
          "base_uri": "https://localhost:8080/"
        },
        "id": "8-oiQeTQ_7OU",
        "outputId": "fb89d98c-1d09-45d0-83b5-9f3e43e2bcf6"
      },
      "execution_count": null,
      "outputs": [
        {
          "output_type": "stream",
          "name": "stdout",
          "text": [
            "KS Statistic: 0.16666666666666666, P-Value: 0.9999999999999998\n"
          ]
        }
      ]
    },
    {
      "cell_type": "markdown",
      "source": [
        "The KS Statistic (Kolmogorov-Smirnov Statistic) is 0.1667, which indicates a slight difference between the distributions of the two datasets. The P-Value is 0.9999999999999998, which is very close to 1. This means there is no statistically significant difference between the two distributions, and the null hypothesis (that the distributions are the same) cannot be rejected. Therefore, the two datasets are likely to come from the same distribution."
      ],
      "metadata": {
        "id": "sxiok25yB4x7"
      }
    },
    {
      "cell_type": "markdown",
      "source": [
        "---"
      ],
      "metadata": {
        "id": "GigTG8hkprjt"
      }
    },
    {
      "cell_type": "code",
      "source": [],
      "metadata": {
        "id": "8YUHMn7y__GM"
      },
      "execution_count": null,
      "outputs": []
    },
    {
      "cell_type": "markdown",
      "source": [
        "The Kolmogorov-Smirnov (K-S) test is a non-parametric statistical test that measures the agreement between two distributions. It is used in two main scenarios:\n",
        "\n",
        "1. **One-Sample K-S Test**: This variant compares the empirical distribution function of a sample with a specified theoretical distribution function. It tests the null hypothesis that the sample is drawn from the specified distribution.\n",
        "\n",
        "2. **Two-Sample K-S Test**: This version compares the empirical distribution functions of two independent samples. It tests the null hypothesis that the two samples are drawn from the same distribution.\n",
        "\n",
        "The test statistic in both cases is the D-statistic, which is the maximum absolute difference between the empirical cumulative distribution functions (CDFs) of the two samples (or between the empirical CDF of a sample and a theoretical CDF). A significant D-statistic indicates a large difference between the distributions, leading to the rejection of the null hypothesis. The p-value derived from the test indicates the probability of observing such a D-statistic by chance under the null hypothesis. A small p-value (typically less than 0.05) suggests significant evidence against the null hypothesis, indicating that the distributions are different."
      ],
      "metadata": {
        "id": "eu4Yy3XPpqhg"
      }
    },
    {
      "cell_type": "markdown",
      "source": [
        "Think of the Kolmogorov-Smirnov (K-S) test like comparing two fruit baskets to determine if they come from the same orchard. Each basket represents a sample, and every fruit in the basket is a data point.\n",
        "\n",
        "### Analogy: Comparing Fruit Baskets\n",
        "\n",
        "1. **Sorting Fruit**: Imagine sorting the fruits in each basket by weight, from lightest to heaviest.\n",
        "2. **Laying Out Fruit**: Line up the sorted fruits from each basket side by side, from the smallest to the largest.\n",
        "3. **Comparing Fruit Lines**: Walk along the lines of fruit and at each step, measure the distance between the fruit from one basket and the corresponding fruit in the other line. The maximum distance you find as you walk the line is akin to the **D-statistic** in the K-S test.\n",
        "4. **Decision Making**: If this maximum gap is large (above a certain critical value), you conclude that it's unlikely both baskets came from the same orchard. If the gap is small, it suggests the baskets could indeed be from the same source.\n",
        "\n",
        "In this analogy:\n",
        "- Each fruit's weight corresponds to a data point in the cumulative distribution functions (CDFs) you compare in the K-S test.\n",
        "- The D-statistic is the largest distance (gap) you find, representing the maximum difference in distributions.\n",
        "- A significant D-statistic (a large gap) suggests the two baskets (or datasets) do not share the same distribution, implying they likely come from different orchards (or different underlying populations).\n",
        "\n",
        "This test is useful because it does not assume the data follows a specific distribution, making it flexible and broadly applicable, just like the straightforward comparison of fruits without needing to know their specific type or variety."
      ],
      "metadata": {
        "id": "PPESjraKpkdV"
      }
    },
    {
      "cell_type": "markdown",
      "source": [
        "Certainly! Let's delve deeper into the formula used in the Kolmogorov-Smirnov (K-S) test and provide an example of how to implement it in Python.\n",
        "\n",
        "### Formula\n",
        "The K-S test statistic, \\( D \\), is calculated using the following formula:\n",
        "\n",
        "![image.png](data:image/png;base64,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)\n",
        "\n",
        "Here:\n",
        "- SUPx denotes the supremum over all possible values of \\( x \\).\n",
        "- Fn(x) is the empirical cumulative distribution function (ECDF) of the sample data.\n",
        "- F(x) is the theoretical cumulative distribution function (CDF) in the one-sample test, or the ECDF of the second sample in the two-sample test.\n",
        "- |Fn(x) - F(x)|  is the absolute difference between the two distribution functions.\n",
        "\n",
        "### Python Implementation\n",
        "\n",
        "\n",
        "```python\n",
        "import numpy as np\n",
        "from scipy import stats\n",
        "\n",
        "# Sample data\n",
        "data = np.random.normal(loc=0, scale=1, size=100)  # Random sample from a normal distribution\n",
        "\n",
        "# One-sample K-S test (testing if 'data' follows a standard normal distribution)\n",
        "D_statistic, p_value = stats.kstest(data, 'norm')\n",
        "print(\"One-sample K-S test:\")\n",
        "print(f\"D-statistic: {D_statistic:.4f}\")\n",
        "print(f\"P-value: {p_value:.4f}\")\n",
        "\n",
        "# Two-sample K-S test\n",
        "data1 = np.random.normal(loc=0, scale=1, size=100)   # Sample from a standard normal distribution\n",
        "data2 = np.random.normal(loc=0.5, scale=1.5, size=100)  # Sample from a different normal distribution\n",
        "\n",
        "D_statistic, p_value = stats.ks_2samp(data1, data2)\n",
        "print(\"\\nTwo-sample K-S test:\")\n",
        "print(f\"D-statistic: {D_statistic:.4f}\")\n",
        "print(f\"P-value: {p_value:.4f}\")\n",
        "```\n",
        "\n",
        "### Explanation of the Code:\n",
        "- The `stats.kstest` function is used for the one-sample K-S test. It compares the sample `data` against the CDF of a standard normal distribution (`'norm'`).\n",
        "- The `stats.ks_2samp` function is used for the two-sample K-S test. It compares two datasets to see if they come from the same distribution.\n",
        "- Both functions return the D-statistic and the p-value, which help determine if there are significant differences between the observed data and the specified distribution (one-sample) or between the two datasets (two-sample).\n",
        "\n",
        "This implementation provides a direct way to apply the K-S test in real-world data analysis scenarios, allowing you to assess whether datasets conform to expected distributions or if two datasets are statistically similar."
      ],
      "metadata": {
        "id": "tq-RWGa9pxBN"
      }
    },
    {
      "cell_type": "code",
      "source": [
        "import numpy as np\n",
        "from scipy import stats\n",
        "\n",
        "# Sample data\n",
        "data = np.random.normal(loc=0, scale=1, size=100)  # Random sample from a normal distribution\n",
        "\n",
        "# One-sample K-S test (testing if 'data' follows a standard normal distribution)\n",
        "D_statistic, p_value = stats.kstest(data, 'norm')\n",
        "print(\"One-sample K-S test:\")\n",
        "print(f\"D-statistic: {D_statistic:.4f}\")\n",
        "print(f\"P-value: {p_value:.4f}\")\n",
        "\n",
        "# Two-sample K-S test\n",
        "data1 = np.random.normal(loc=0, scale=1, size=100)   # Sample from a standard normal distribution\n",
        "data2 = np.random.normal(loc=0.5, scale=1.5, size=100)  # Sample from a different normal distribution\n",
        "\n",
        "D_statistic, p_value = stats.ks_2samp(data1, data2)\n",
        "print(\"\\nTwo-sample K-S test:\")\n",
        "print(f\"D-statistic: {D_statistic:.4f}\")\n",
        "print(f\"P-value: {p_value:.4f}\")"
      ],
      "metadata": {
        "colab": {
          "base_uri": "https://localhost:8080/"
        },
        "id": "OY6hslhnqg3B",
        "outputId": "2bb72f80-fd77-47af-f632-7dd90aa8c2bf"
      },
      "execution_count": null,
      "outputs": [
        {
          "output_type": "stream",
          "name": "stdout",
          "text": [
            "One-sample K-S test:\n",
            "D-statistic: 0.1056\n",
            "P-value: 0.2003\n",
            "\n",
            "Two-sample K-S test:\n",
            "D-statistic: 0.2700\n",
            "P-value: 0.0013\n"
          ]
        }
      ]
    },
    {
      "cell_type": "markdown",
      "source": [
        "The one-sample K-S test results suggest that your sample data do not significantly deviate from a standard normal distribution.\n",
        "\n",
        "The two-sample K-S test results indicate that there is a significant difference between the distributions of the two samples, suggesting they do not come from the same distribution."
      ],
      "metadata": {
        "id": "wKryDx5bqy1j"
      }
    }
  ]
}